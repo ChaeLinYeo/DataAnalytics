{
  "nbformat": 4,
  "nbformat_minor": 0,
  "metadata": {
    "colab": {
      "name": "test1.ipynb",
      "provenance": [],
      "collapsed_sections": []
    },
    "kernelspec": {
      "name": "python3",
      "display_name": "Python 3"
    }
  },
  "cells": [
    {
      "cell_type": "code",
      "metadata": {
        "id": "8zpm6Kd2SiGS",
        "outputId": "64cf828a-be60-4edf-98d2-2fc382b07674",
        "colab": {
          "base_uri": "https://localhost:8080/"
        }
      },
      "source": [
        "import csv\n",
        "import pandas as pd\n",
        "import numpy as np\n",
        "from pandas import DataFrame\n",
        "\n",
        "df = pd.read_csv('./test1.csv')\n",
        "print(df)"
      ],
      "execution_count": null,
      "outputs": [
        {
          "output_type": "stream",
          "text": [
            "                                  name       artists  ...    tempo  duration_ms\n",
            "0                           God's Plan         Drake  ...   77.169       198973\n",
            "1                                 SAD!  XXXTENTACION  ...   75.023       166606\n",
            "2           rockstar (feat. 21 Savage)   Post Malone  ...  159.847       218147\n",
            "3         Psycho (feat. Ty Dolla $ign)   Post Malone  ...  140.124       221440\n",
            "4                       In My Feelings         Drake  ...   91.030       217925\n",
            "..                                 ...           ...  ...      ...          ...\n",
            "100                  Rewrite The Stars     Zac Efron  ...  125.046       217440\n",
            "101  I Miss You (feat. Julia Michaels)  Clean Bandit  ...  105.076       205748\n",
            "102                         No Brainer     DJ Khaled  ...  135.702       260000\n",
            "103        Dusk Till Dawn - Radio Edit          ZAYN  ...  180.043       239000\n",
            "104                         Be Alright    Dean Lewis  ...  126.684       196373\n",
            "\n",
            "[105 rows x 14 columns]\n"
          ],
          "name": "stdout"
        }
      ]
    },
    {
      "cell_type": "code",
      "metadata": {
        "id": "ZV3iEaglVsWl",
        "outputId": "4ef3c11a-8703-4a70-aa8d-8708b8f3f114",
        "colab": {
          "base_uri": "https://localhost:8080/",
          "height": 476
        }
      },
      "source": [
        "# 기본 전처리 : ‘artists’ 값이 없는 데이터를 제거하시오.\n",
        "basic = df_dropna = df.dropna(subset=['artists']) # 컬럼 'artists'에 결측치가 있는 경우 삭제\n",
        "print(basic)\n",
        "basic.head()"
      ],
      "execution_count": null,
      "outputs": [
        {
          "output_type": "stream",
          "text": [
            "                                  name       artists  ...    tempo  duration_ms\n",
            "0                           God's Plan         Drake  ...   77.169       198973\n",
            "1                                 SAD!  XXXTENTACION  ...   75.023       166606\n",
            "2           rockstar (feat. 21 Savage)   Post Malone  ...  159.847       218147\n",
            "3         Psycho (feat. Ty Dolla $ign)   Post Malone  ...  140.124       221440\n",
            "4                       In My Feelings         Drake  ...   91.030       217925\n",
            "..                                 ...           ...  ...      ...          ...\n",
            "100                  Rewrite The Stars     Zac Efron  ...  125.046       217440\n",
            "101  I Miss You (feat. Julia Michaels)  Clean Bandit  ...  105.076       205748\n",
            "102                         No Brainer     DJ Khaled  ...  135.702       260000\n",
            "103        Dusk Till Dawn - Radio Edit          ZAYN  ...  180.043       239000\n",
            "104                         Be Alright    Dean Lewis  ...  126.684       196373\n",
            "\n",
            "[100 rows x 14 columns]\n"
          ],
          "name": "stdout"
        },
        {
          "output_type": "execute_result",
          "data": {
            "text/html": [
              "<div>\n",
              "<style scoped>\n",
              "    .dataframe tbody tr th:only-of-type {\n",
              "        vertical-align: middle;\n",
              "    }\n",
              "\n",
              "    .dataframe tbody tr th {\n",
              "        vertical-align: top;\n",
              "    }\n",
              "\n",
              "    .dataframe thead th {\n",
              "        text-align: right;\n",
              "    }\n",
              "</style>\n",
              "<table border=\"1\" class=\"dataframe\">\n",
              "  <thead>\n",
              "    <tr style=\"text-align: right;\">\n",
              "      <th></th>\n",
              "      <th>name</th>\n",
              "      <th>artists</th>\n",
              "      <th>danceability</th>\n",
              "      <th>energy</th>\n",
              "      <th>key</th>\n",
              "      <th>loudness</th>\n",
              "      <th>mode</th>\n",
              "      <th>speechiness</th>\n",
              "      <th>acousticness</th>\n",
              "      <th>instrumentalness</th>\n",
              "      <th>liveness</th>\n",
              "      <th>valence</th>\n",
              "      <th>tempo</th>\n",
              "      <th>duration_ms</th>\n",
              "    </tr>\n",
              "  </thead>\n",
              "  <tbody>\n",
              "    <tr>\n",
              "      <th>0</th>\n",
              "      <td>God's Plan</td>\n",
              "      <td>Drake</td>\n",
              "      <td>0.754</td>\n",
              "      <td>0.449</td>\n",
              "      <td>7</td>\n",
              "      <td>-9.211</td>\n",
              "      <td>1</td>\n",
              "      <td>0.1090</td>\n",
              "      <td>0.0332</td>\n",
              "      <td>0.000083</td>\n",
              "      <td>0.552</td>\n",
              "      <td>0.357</td>\n",
              "      <td>77.169</td>\n",
              "      <td>198973</td>\n",
              "    </tr>\n",
              "    <tr>\n",
              "      <th>1</th>\n",
              "      <td>SAD!</td>\n",
              "      <td>XXXTENTACION</td>\n",
              "      <td>0.740</td>\n",
              "      <td>0.613</td>\n",
              "      <td>8</td>\n",
              "      <td>-4.880</td>\n",
              "      <td>1</td>\n",
              "      <td>0.1450</td>\n",
              "      <td>0.2580</td>\n",
              "      <td>0.003720</td>\n",
              "      <td>0.123</td>\n",
              "      <td>0.473</td>\n",
              "      <td>75.023</td>\n",
              "      <td>166606</td>\n",
              "    </tr>\n",
              "    <tr>\n",
              "      <th>2</th>\n",
              "      <td>rockstar (feat. 21 Savage)</td>\n",
              "      <td>Post Malone</td>\n",
              "      <td>0.587</td>\n",
              "      <td>0.535</td>\n",
              "      <td>5</td>\n",
              "      <td>-6.090</td>\n",
              "      <td>0</td>\n",
              "      <td>0.0898</td>\n",
              "      <td>0.1170</td>\n",
              "      <td>0.000066</td>\n",
              "      <td>0.131</td>\n",
              "      <td>0.140</td>\n",
              "      <td>159.847</td>\n",
              "      <td>218147</td>\n",
              "    </tr>\n",
              "    <tr>\n",
              "      <th>3</th>\n",
              "      <td>Psycho (feat. Ty Dolla $ign)</td>\n",
              "      <td>Post Malone</td>\n",
              "      <td>0.739</td>\n",
              "      <td>0.559</td>\n",
              "      <td>8</td>\n",
              "      <td>-8.011</td>\n",
              "      <td>1</td>\n",
              "      <td>0.1170</td>\n",
              "      <td>0.5800</td>\n",
              "      <td>0.000000</td>\n",
              "      <td>0.112</td>\n",
              "      <td>0.439</td>\n",
              "      <td>140.124</td>\n",
              "      <td>221440</td>\n",
              "    </tr>\n",
              "    <tr>\n",
              "      <th>4</th>\n",
              "      <td>In My Feelings</td>\n",
              "      <td>Drake</td>\n",
              "      <td>0.835</td>\n",
              "      <td>0.626</td>\n",
              "      <td>1</td>\n",
              "      <td>-5.833</td>\n",
              "      <td>1</td>\n",
              "      <td>0.1250</td>\n",
              "      <td>0.0589</td>\n",
              "      <td>0.000060</td>\n",
              "      <td>0.396</td>\n",
              "      <td>0.350</td>\n",
              "      <td>91.030</td>\n",
              "      <td>217925</td>\n",
              "    </tr>\n",
              "  </tbody>\n",
              "</table>\n",
              "</div>"
            ],
            "text/plain": [
              "                           name       artists  ...    tempo  duration_ms\n",
              "0                    God's Plan         Drake  ...   77.169       198973\n",
              "1                          SAD!  XXXTENTACION  ...   75.023       166606\n",
              "2    rockstar (feat. 21 Savage)   Post Malone  ...  159.847       218147\n",
              "3  Psycho (feat. Ty Dolla $ign)   Post Malone  ...  140.124       221440\n",
              "4                In My Feelings         Drake  ...   91.030       217925\n",
              "\n",
              "[5 rows x 14 columns]"
            ]
          },
          "metadata": {
            "tags": []
          },
          "execution_count": 321
        }
      ]
    },
    {
      "cell_type": "code",
      "metadata": {
        "id": "_6MTPfMN0tmK",
        "outputId": "6f026bf9-a6e3-4fff-a087-5060fe78ce9c",
        "colab": {
          "base_uri": "https://localhost:8080/"
        }
      },
      "source": [
        "# 1-1. 가수별로 등록된 곡수를 집계해보고,\n",
        "example1 = basic.groupby(basic['artists'])['name'].count()   #가수별로 등록된 곡수 집계\n",
        "example2 = basic.groupby(basic['artists']).count()\n",
        "print(example1)"
      ],
      "execution_count": null,
      "outputs": [
        {
          "output_type": "stream",
          "text": [
            "artists\n",
            "5 Seconds of Summer    1\n",
            "6ix9ine                1\n",
            "Anitta                 1\n",
            "Anne-Marie             1\n",
            "Ariana Grande          2\n",
            "                      ..\n",
            "XXXTENTACION           6\n",
            "ZAYN                   1\n",
            "Zac Efron              1\n",
            "Zedd                   1\n",
            "benny blanco           1\n",
            "Name: name, Length: 70, dtype: int64\n"
          ],
          "name": "stdout"
        }
      ]
    },
    {
      "cell_type": "code",
      "metadata": {
        "id": "81-Ailh0dKL0",
        "outputId": "7190703e-e38a-4d8b-c96e-6b267f362ce3",
        "colab": {
          "base_uri": "https://localhost:8080/"
        }
      },
      "source": [
        "# 1-2. 5곡 이상의 인기곡을 보유한 가수들을 출력하시오.\n",
        "# example3 = basic.groupby(basic['artists'])['name'].count() >= 5 \n",
        "example3 = example2.query('name >= 5') # 5곡 이상의 인기곡을 보유한 가수들\n",
        "# example3 = example2[example2['name']>=5]\n",
        "example3['name']"
      ],
      "execution_count": null,
      "outputs": [
        {
          "output_type": "execute_result",
          "data": {
            "text/plain": [
              "artists\n",
              "Post Malone     6\n",
              "XXXTENTACION    6\n",
              "Name: name, dtype: int64"
            ]
          },
          "metadata": {
            "tags": []
          },
          "execution_count": 415
        }
      ]
    },
    {
      "cell_type": "code",
      "metadata": {
        "id": "-rjvwZJCB9rs",
        "outputId": "968e6a41-7389-4571-a2e9-6fd52403e62c",
        "colab": {
          "base_uri": "https://localhost:8080/"
        }
      },
      "source": [
        "#2. Valence 값이 0.5 이상인 곡들에 대해 Danceability와 Energy 변수 간 피어슨 상관계수를 출력하시오.\n",
        "example4 = basic.query('valence >= 0.5') # alence 값이 0.5 이상인 곡들\n",
        "corr = lambda p : p['danceability'].corr(p['energy']) # Danceability와 Energy 칼럼 간의 상관관계 \n",
        "# answer = example4.corr(method='pearson')\n",
        "answer = corr(example4)\n",
        "print(answer)\n",
        "\n",
        "#example4\n",
        "# corr_a_d = lambda g: g['danceability'].corr(g['energy'])\n",
        "# grouped = example4.groupby('name')\n",
        "# DataFrame(grouped.apply(corr_a_d))\n",
        "\n",
        "# corr = example4.corr(method = 'pearson')\n",
        "# print(corr)\n"
      ],
      "execution_count": null,
      "outputs": [
        {
          "output_type": "stream",
          "text": [
            "-0.3603789435556817\n"
          ],
          "name": "stdout"
        }
      ]
    },
    {
      "cell_type": "code",
      "metadata": {
        "id": "J8pR1nQkDybe",
        "outputId": "cd6dc91e-0a52-4014-f199-44a0dc234399",
        "colab": {
          "base_uri": "https://localhost:8080/",
          "height": 473
        }
      },
      "source": [
        "# 3. ‘danceability’, ‘energy’, ‘loudness’, ‘speechiness’, ‘acousticness’,\n",
        "# ‘instrumentalness’, ‘liveness’, ‘valence’, ‘tempo’ 의 9개 변수를 사용해\n",
        "#‘duration_ms’를 예측하는 다중선형회귀 모델을 생성하시오. (학습 데이터는 100개의 데이터를 모두 사용할 것)\n",
        "from sklearn.model_selection import train_test_split\n",
        "# from sklearn.linear_model import LinearRegression\n",
        "import matplotlib.pyplot as plt\n",
        "from sklearn import linear_model\n",
        "\n",
        "X_data = basic[['danceability', 'energy', 'loudness', 'speechiness', 'acousticness','instrumentalness', 'liveness', 'valence', 'tempo']]  #9개 변수\n",
        "Y_data = basic[['duration_ms']]  # 예측할 변수\n",
        "\n",
        "#다중선형회귀 모델 설계\n",
        "linear_regression_model = linear_model.LinearRegression() \n",
        "linear_regression_model.fit(X = pd.DataFrame(X_data), y = Y_data)\n",
        "linear_regression_model_prediction = linear_regression_model.predict(X = pd.DataFrame(X_data))\n",
        "\n",
        "#다중회귀분석 실제값 / 예측값 도식화\n",
        "fig = plt.figure( figsize = (12, 4))\n",
        "graph = fig.add_subplot(1,1,1)\n",
        "graph.plot(Y_data[:88], marker='o', color='blue', label='actual')\n",
        "graph.plot(linear_regression_model_prediction[:88], marker='^', color='red', label='predict')\n",
        "graph.set_title('multiple linear regression', size=30)\n",
        "plt.xlabel('횟수', size=20)\n",
        "plt.ylabel('duration_ms', size=20)\n",
        "plt.legend(loc = 'best') "
      ],
      "execution_count": null,
      "outputs": [
        {
          "output_type": "execute_result",
          "data": {
            "text/plain": [
              "<matplotlib.legend.Legend at 0x7f7a6e7d5f28>"
            ]
          },
          "metadata": {
            "tags": []
          },
          "execution_count": 368
        },
        {
          "output_type": "stream",
          "text": [
            "/usr/local/lib/python3.6/dist-packages/matplotlib/backends/backend_agg.py:214: RuntimeWarning: Glyph 54943 missing from current font.\n",
            "  font.set_text(s, 0.0, flags=flags)\n",
            "/usr/local/lib/python3.6/dist-packages/matplotlib/backends/backend_agg.py:214: RuntimeWarning: Glyph 49688 missing from current font.\n",
            "  font.set_text(s, 0.0, flags=flags)\n",
            "/usr/local/lib/python3.6/dist-packages/matplotlib/backends/backend_agg.py:183: RuntimeWarning: Glyph 54943 missing from current font.\n",
            "  font.set_text(s, 0, flags=flags)\n",
            "/usr/local/lib/python3.6/dist-packages/matplotlib/backends/backend_agg.py:183: RuntimeWarning: Glyph 49688 missing from current font.\n",
            "  font.set_text(s, 0, flags=flags)\n"
          ],
          "name": "stderr"
        },
        {
          "output_type": "display_data",
          "data": {
            "image/png": "[encoded data removed]",
            "text/plain": [
              "<Figure size 864x288 with 1 Axes>"
            ]
          },
          "metadata": {
            "tags": [],
            "needs_background": "light"
          }
        }
      ]
    },
    {
      "cell_type": "code",
      "metadata": {
        "id": "I2iYQf2WkUuc",
        "outputId": "1d98e579-2612-4ced-bc11-697cdbd5fc4e",
        "colab": {
          "base_uri": "https://localhost:8080/",
          "height": 296
        }
      },
      "source": [
        "# 예측-실제값 도식화\n",
        "y_predict = mlr.predict(x_test)\n",
        "plt.scatter(y_test, y_predict, alpha=0.4)\n",
        "plt.xlabel(\"Actual duration_ms\")\n",
        "plt.ylabel(\"Predicted duration_ms\")\n",
        "plt.title(\"multiple linear regression\")\n",
        "plt.show()"
      ],
      "execution_count": null,
      "outputs": [
        {
          "output_type": "display_data",
          "data": {
            "image/png": "[encoded data removed]",
            "text/plain": [
              "<Figure size 432x288 with 1 Axes>"
            ]
          },
          "metadata": {
            "tags": [],
            "needs_background": "light"
          }
        }
      ]
    },
    {
      "cell_type": "code",
      "metadata": {
        "id": "MKjsTvnhD70n",
        "outputId": "e95264d1-7c88-4e8f-e6c4-10ac7d979c26",
        "colab": {
          "base_uri": "https://localhost:8080/",
          "height": 235
        }
      },
      "source": [
        "# 4-1. 가수별로 ‘danceability’, ‘energy’, ‘loudness’, ‘acousticness’, ‘tempo’, ‘duration_ms’ 6개 변수의 평균값을 집계하시오\n",
        "\n",
        "# 가수별 6개 변수의 평균값 집계\n",
        "avg = basic.groupby('artists')[['danceability', 'energy', 'loudness', 'acousticness', 'tempo', 'duration_ms']].mean()\n",
        "avg.head()"
      ],
      "execution_count": null,
      "outputs": [
        {
          "output_type": "execute_result",
          "data": {
            "text/html": [
              "<div>\n",
              "<style scoped>\n",
              "    .dataframe tbody tr th:only-of-type {\n",
              "        vertical-align: middle;\n",
              "    }\n",
              "\n",
              "    .dataframe tbody tr th {\n",
              "        vertical-align: top;\n",
              "    }\n",
              "\n",
              "    .dataframe thead th {\n",
              "        text-align: right;\n",
              "    }\n",
              "</style>\n",
              "<table border=\"1\" class=\"dataframe\">\n",
              "  <thead>\n",
              "    <tr style=\"text-align: right;\">\n",
              "      <th></th>\n",
              "      <th>danceability</th>\n",
              "      <th>energy</th>\n",
              "      <th>loudness</th>\n",
              "      <th>acousticness</th>\n",
              "      <th>tempo</th>\n",
              "      <th>duration_ms</th>\n",
              "    </tr>\n",
              "    <tr>\n",
              "      <th>artists</th>\n",
              "      <th></th>\n",
              "      <th></th>\n",
              "      <th></th>\n",
              "      <th></th>\n",
              "      <th></th>\n",
              "      <th></th>\n",
              "    </tr>\n",
              "  </thead>\n",
              "  <tbody>\n",
              "    <tr>\n",
              "      <th>5 Seconds of Summer</th>\n",
              "      <td>0.5960</td>\n",
              "      <td>0.8540</td>\n",
              "      <td>-5.1140</td>\n",
              "      <td>0.01690</td>\n",
              "      <td>120.274</td>\n",
              "      <td>203418.0</td>\n",
              "    </tr>\n",
              "    <tr>\n",
              "      <th>6ix9ine</th>\n",
              "      <td>0.9310</td>\n",
              "      <td>0.3870</td>\n",
              "      <td>-9.1270</td>\n",
              "      <td>0.08800</td>\n",
              "      <td>125.978</td>\n",
              "      <td>179405.0</td>\n",
              "    </tr>\n",
              "    <tr>\n",
              "      <th>Anitta</th>\n",
              "      <td>0.7750</td>\n",
              "      <td>0.6790</td>\n",
              "      <td>-4.9850</td>\n",
              "      <td>0.18000</td>\n",
              "      <td>166.008</td>\n",
              "      <td>193456.0</td>\n",
              "    </tr>\n",
              "    <tr>\n",
              "      <th>Anne-Marie</th>\n",
              "      <td>0.6970</td>\n",
              "      <td>0.6830</td>\n",
              "      <td>-2.8810</td>\n",
              "      <td>0.03720</td>\n",
              "      <td>96.133</td>\n",
              "      <td>186987.0</td>\n",
              "    </tr>\n",
              "    <tr>\n",
              "      <th>Ariana Grande</th>\n",
              "      <td>0.6505</td>\n",
              "      <td>0.6855</td>\n",
              "      <td>-5.7205</td>\n",
              "      <td>0.03165</td>\n",
              "      <td>133.512</td>\n",
              "      <td>201733.5</td>\n",
              "    </tr>\n",
              "  </tbody>\n",
              "</table>\n",
              "</div>"
            ],
            "text/plain": [
              "                     danceability  energy  ...    tempo  duration_ms\n",
              "artists                                    ...                      \n",
              "5 Seconds of Summer        0.5960  0.8540  ...  120.274     203418.0\n",
              "6ix9ine                    0.9310  0.3870  ...  125.978     179405.0\n",
              "Anitta                     0.7750  0.6790  ...  166.008     193456.0\n",
              "Anne-Marie                 0.6970  0.6830  ...   96.133     186987.0\n",
              "Ariana Grande              0.6505  0.6855  ...  133.512     201733.5\n",
              "\n",
              "[5 rows x 6 columns]"
            ]
          },
          "metadata": {
            "tags": []
          },
          "execution_count": 327
        }
      ]
    },
    {
      "cell_type": "code",
      "metadata": {
        "id": "FNFC7SZZntBD",
        "outputId": "aeca8656-cafa-4d06-d685-cff7a18a3185",
        "colab": {
          "base_uri": "https://localhost:8080/",
          "height": 554
        }
      },
      "source": [
        "# 4-2. 집계된 평균 데이터를 이용하여 K-means Clustering 기법으로 5개 군집으로 분류하시오. \n",
        "from sklearn import datasets\n",
        "import pandas as pd\n",
        "from sklearn.cluster import KMeans\n",
        "import matplotlib.pyplot  as plt\n",
        "import seaborn as sns\n",
        "\n",
        "feature = avg[['energy','tempo']]\n",
        "model = KMeans(n_clusters=5,algorithm='auto')\n",
        "model.fit(feature)\n",
        "predict = pd.DataFrame(model.predict(feature))\n",
        "predict.columns=['predict']\n",
        "print(predict)\n",
        "r = pd.concat([feature,predict],axis=1)\n",
        "plt.scatter(r['energy'],r['tempo'],c=r['predict'],alpha=0.5)\n",
        "centers = pd.DataFrame(model.cluster_centers_,columns=['energy','tempo'])\n",
        "center_x = centers['energy']\n",
        "center_y = centers['tempo']\n",
        "plt.scatter(center_x,center_y,s=50,marker='D',c='r')"
      ],
      "execution_count": null,
      "outputs": [
        {
          "output_type": "stream",
          "text": [
            "    predict\n",
            "0         3\n",
            "1         3\n",
            "2         0\n",
            "3         4\n",
            "4         3\n",
            "..      ...\n",
            "65        1\n",
            "66        0\n",
            "67        3\n",
            "68        1\n",
            "69        4\n",
            "\n",
            "[70 rows x 1 columns]\n"
          ],
          "name": "stdout"
        },
        {
          "output_type": "execute_result",
          "data": {
            "text/plain": [
              "<matplotlib.collections.PathCollection at 0x7f7a6f0a5d68>"
            ]
          },
          "metadata": {
            "tags": []
          },
          "execution_count": 370
        },
        {
          "output_type": "stream",
          "text": [
            "<string>:6: UserWarning: Warning: converting a masked element to nan.\n",
            "/usr/local/lib/python3.6/dist-packages/numpy/core/_asarray.py:85: UserWarning: Warning: converting a masked element to nan.\n",
            "  return array(a, dtype, copy=False, order=order)\n"
          ],
          "name": "stderr"
        },
        {
          "output_type": "display_data",
          "data": {
            "image/png": "[encoded data removed]",
            "text/plain": [
              "<Figure size 432x288 with 1 Axes>"
            ]
          },
          "metadata": {
            "tags": [],
            "needs_background": "light"
          }
        }
      ]
    },
    {
      "cell_type": "code",
      "metadata": {
        "id": "n0tCkljgPEvJ",
        "outputId": "190e73d5-c979-4c1e-f03a-4b34115f1fdf",
        "colab": {
          "base_uri": "https://localhost:8080/",
          "height": 449
        }
      },
      "source": [
        "##########################\n",
        "x = avg.copy()\n",
        "kmeans = KMeans(5)\n",
        "kmeans.fit(x)\n",
        "print(kmeans.cluster_centers_)\n",
        "clusters = x.copy()\n",
        "clusters['cluster_predict'] = kmeans.fit_predict(x)\n",
        "plt.scatter(clusters['energy'], clusters['tempo'], c=clusters['cluster_predict'], cmap='rainbow')\n",
        "plt.xlabel('energy')\n",
        "plt.ylabel('tempo')\n",
        "plt.show()"
      ],
      "execution_count": null,
      "outputs": [
        {
          "output_type": "stream",
          "text": [
            "[[ 6.92266667e-01  6.82666667e-01 -4.87620000e+00  1.47699333e-01\n",
            "   1.22001133e+02  2.69459600e+05]\n",
            " [ 7.21153846e-01  6.65153846e-01 -5.59642308e+00  2.25783051e-01\n",
            "   1.19389038e+02  1.94649199e+05]\n",
            " [ 7.34602564e-01  6.65076923e-01 -6.18732051e+00  1.42917949e-01\n",
            "   1.14760692e+02  1.61182526e+05]\n",
            " [ 9.03000000e-01  6.75000000e-01 -3.44500000e+00  5.42000000e-01\n",
            "   9.65070000e+01  4.17920000e+05]\n",
            " [ 6.92276667e-01  6.87373333e-01 -5.49514667e+00  1.33024533e-01\n",
            "   1.22378060e+02  2.21232717e+05]]\n"
          ],
          "name": "stdout"
        },
        {
          "output_type": "display_data",
          "data": {
            "image/png": "[encoded data removed]",
            "text/plain": [
              "<Figure size 432x288 with 1 Axes>"
            ]
          },
          "metadata": {
            "tags": [],
            "needs_background": "light"
          }
        }
      ]
    },
    {
      "cell_type": "code",
      "metadata": {
        "id": "YZxSNNkbQsrN",
        "outputId": "7dfd2819-a844-496e-a499-e5c13acf5c29",
        "colab": {
          "base_uri": "https://localhost:8080/",
          "height": 435
        }
      },
      "source": [
        "##########################\n",
        "# x = avg.copy()\n",
        "x = avg.values\n",
        "kmeans = KMeans(5)\n",
        "kmeans.fit(x)\n",
        "print(kmeans.cluster_centers_)\n",
        "plt.scatter(x[:,0],x[:,1], c=kmeans.labels_)\n",
        "plt.scatter(kmeans.cluster_centers_[:,0], kmeans.cluster_centers_[:,1], s=50, color=\"red\");"
      ],
      "execution_count": null,
      "outputs": [
        {
          "output_type": "stream",
          "text": [
            "[[ 6.92276667e-01  6.87373333e-01 -5.49514667e+00  1.33024533e-01\n",
            "   1.22378060e+02  2.21232717e+05]\n",
            " [ 7.34602564e-01  6.65076923e-01 -6.18732051e+00  1.42917949e-01\n",
            "   1.14760692e+02  1.61182526e+05]\n",
            " [ 9.03000000e-01  6.75000000e-01 -3.44500000e+00  5.42000000e-01\n",
            "   9.65070000e+01  4.17920000e+05]\n",
            " [ 6.92266667e-01  6.82666667e-01 -4.87620000e+00  1.47699333e-01\n",
            "   1.22001133e+02  2.69459600e+05]\n",
            " [ 7.21153846e-01  6.65153846e-01 -5.59642308e+00  2.25783051e-01\n",
            "   1.19389038e+02  1.94649199e+05]]\n"
          ],
          "name": "stdout"
        },
        {
          "output_type": "display_data",
          "data": {
            "image/png": "[encoded data removed]",
            "text/plain": [
              "<Figure size 432x288 with 1 Axes>"
            ]
          },
          "metadata": {
            "tags": [],
            "needs_background": "light"
          }
        }
      ]
    },
    {
      "cell_type": "code",
      "metadata": {
        "id": "Y5P9_ZnMFQUH",
        "outputId": "10f34426-6e83-4a72-b54c-77d73ab1dbc2",
        "colab": {
          "base_uri": "https://localhost:8080/",
          "height": 282
        }
      },
      "source": [
        "import numpy as np\n",
        "import matplotlib.pyplot as plt\n",
        "import pandas as pd\n",
        "from sklearn.cluster import KMeans\n",
        "X = avg.values\n",
        "# print(avg.values)\n",
        "kmeans1 = KMeans(n_clusters = 5, init = 'k-means++', random_state = 42)\n",
        "kmeans1.fit(X)\n",
        "\n",
        "y_kmeans = kmeans1.fit_predict(X)\n",
        "\n",
        "plt.scatter(X[y_kmeans == 0, 0], X[y_kmeans == 0, 1], s = 50, c = 'red', label = 'Cluster 1')\n",
        "plt.scatter(X[y_kmeans == 1, 0], X[y_kmeans == 1, 1], s = 50, c = 'blue', label = 'Cluster 2')\n",
        "plt.scatter(X[y_kmeans == 2, 0], X[y_kmeans == 2, 1], s = 50, c = 'green', label = 'Cluster 3')\n",
        "plt.scatter(X[y_kmeans == 3, 0], X[y_kmeans == 3, 1], s = 50, c = 'cyan', label = 'Cluster 4')\n",
        "plt.scatter(X[y_kmeans == 4, 0], X[y_kmeans == 4, 1], s = 50, c = 'magenta', label = 'Cluster 5')\n",
        "plt.scatter(kmeans1.cluster_centers_[:, 0], kmeans1.cluster_centers_[:, 1], s = 50, c = 'black', label = 'Centroids')"
      ],
      "execution_count": null,
      "outputs": [
        {
          "output_type": "execute_result",
          "data": {
            "text/plain": [
              "<matplotlib.collections.PathCollection at 0x7f7a6ebb1630>"
            ]
          },
          "metadata": {
            "tags": []
          },
          "execution_count": 355
        },
        {
          "output_type": "display_data",
          "data": {
            "image/png": "[encoded data removed]",
            "text/plain": [
              "<Figure size 432x288 with 1 Axes>"
            ]
          },
          "metadata": {
            "tags": [],
            "needs_background": "light"
          }
        }
      ]
    },
    {
      "cell_type": "code",
      "metadata": {
        "id": "7-f-Icq2v2eQ",
        "outputId": "66ffdde8-5e91-413d-a28d-0fd7c1d098cc",
        "colab": {
          "base_uri": "https://localhost:8080/",
          "height": 886
        }
      },
      "source": [
        "# 4-3. 또한 군집 분석 결과 aritist명 ‘Sam Smith’와 같은 군집에 속한 가수들을 출력하고\n",
        "avg['cluster'] = y_kmeans \n",
        "avg.head()\n",
        "is_sam = avg.query('artists == \"Sam Smith\"')\n",
        "# is_sam  #sam smith 는 군집 4에 속함을 알 수 있음\n",
        "sam = avg.query('cluster == 4')\n",
        "sam"
      ],
      "execution_count": null,
      "outputs": [
        {
          "output_type": "execute_result",
          "data": {
            "text/html": [
              "<div>\n",
              "<style scoped>\n",
              "    .dataframe tbody tr th:only-of-type {\n",
              "        vertical-align: middle;\n",
              "    }\n",
              "\n",
              "    .dataframe tbody tr th {\n",
              "        vertical-align: top;\n",
              "    }\n",
              "\n",
              "    .dataframe thead th {\n",
              "        text-align: right;\n",
              "    }\n",
              "</style>\n",
              "<table border=\"1\" class=\"dataframe\">\n",
              "  <thead>\n",
              "    <tr style=\"text-align: right;\">\n",
              "      <th></th>\n",
              "      <th>danceability</th>\n",
              "      <th>energy</th>\n",
              "      <th>loudness</th>\n",
              "      <th>acousticness</th>\n",
              "      <th>tempo</th>\n",
              "      <th>duration_ms</th>\n",
              "      <th>cluster</th>\n",
              "    </tr>\n",
              "    <tr>\n",
              "      <th>artists</th>\n",
              "      <th></th>\n",
              "      <th></th>\n",
              "      <th></th>\n",
              "      <th></th>\n",
              "      <th></th>\n",
              "      <th></th>\n",
              "      <th></th>\n",
              "    </tr>\n",
              "  </thead>\n",
              "  <tbody>\n",
              "    <tr>\n",
              "      <th>5 Seconds of Summer</th>\n",
              "      <td>0.5960</td>\n",
              "      <td>0.8540</td>\n",
              "      <td>-5.1140</td>\n",
              "      <td>0.016900</td>\n",
              "      <td>120.2740</td>\n",
              "      <td>203418.000000</td>\n",
              "      <td>4</td>\n",
              "    </tr>\n",
              "    <tr>\n",
              "      <th>6ix9ine</th>\n",
              "      <td>0.9310</td>\n",
              "      <td>0.3870</td>\n",
              "      <td>-9.1270</td>\n",
              "      <td>0.088000</td>\n",
              "      <td>125.9780</td>\n",
              "      <td>179405.000000</td>\n",
              "      <td>4</td>\n",
              "    </tr>\n",
              "    <tr>\n",
              "      <th>Anitta</th>\n",
              "      <td>0.7750</td>\n",
              "      <td>0.6790</td>\n",
              "      <td>-4.9850</td>\n",
              "      <td>0.180000</td>\n",
              "      <td>166.0080</td>\n",
              "      <td>193456.000000</td>\n",
              "      <td>4</td>\n",
              "    </tr>\n",
              "    <tr>\n",
              "      <th>Anne-Marie</th>\n",
              "      <td>0.6970</td>\n",
              "      <td>0.6830</td>\n",
              "      <td>-2.8810</td>\n",
              "      <td>0.037200</td>\n",
              "      <td>96.1330</td>\n",
              "      <td>186987.000000</td>\n",
              "      <td>4</td>\n",
              "    </tr>\n",
              "    <tr>\n",
              "      <th>Ariana Grande</th>\n",
              "      <td>0.6505</td>\n",
              "      <td>0.6855</td>\n",
              "      <td>-5.7205</td>\n",
              "      <td>0.031650</td>\n",
              "      <td>133.5120</td>\n",
              "      <td>201733.500000</td>\n",
              "      <td>4</td>\n",
              "    </tr>\n",
              "    <tr>\n",
              "      <th>Becky G</th>\n",
              "      <td>0.7910</td>\n",
              "      <td>0.7450</td>\n",
              "      <td>-3.6950</td>\n",
              "      <td>0.354000</td>\n",
              "      <td>94.0140</td>\n",
              "      <td>188560.000000</td>\n",
              "      <td>4</td>\n",
              "    </tr>\n",
              "    <tr>\n",
              "      <th>Billie Eilish</th>\n",
              "      <td>0.3510</td>\n",
              "      <td>0.2960</td>\n",
              "      <td>-10.1090</td>\n",
              "      <td>0.934000</td>\n",
              "      <td>115.2840</td>\n",
              "      <td>200186.000000</td>\n",
              "      <td>4</td>\n",
              "    </tr>\n",
              "    <tr>\n",
              "      <th>BlocBoy JB</th>\n",
              "      <td>0.9220</td>\n",
              "      <td>0.5810</td>\n",
              "      <td>-7.4950</td>\n",
              "      <td>0.001040</td>\n",
              "      <td>140.0220</td>\n",
              "      <td>181263.000000</td>\n",
              "      <td>4</td>\n",
              "    </tr>\n",
              "    <tr>\n",
              "      <th>Daddy Yankee</th>\n",
              "      <td>0.7910</td>\n",
              "      <td>0.8480</td>\n",
              "      <td>-3.4560</td>\n",
              "      <td>0.183000</td>\n",
              "      <td>95.0000</td>\n",
              "      <td>200480.000000</td>\n",
              "      <td>4</td>\n",
              "    </tr>\n",
              "    <tr>\n",
              "      <th>David Guetta</th>\n",
              "      <td>0.6310</td>\n",
              "      <td>0.6490</td>\n",
              "      <td>-5.8920</td>\n",
              "      <td>0.081700</td>\n",
              "      <td>93.9500</td>\n",
              "      <td>194680.000000</td>\n",
              "      <td>4</td>\n",
              "    </tr>\n",
              "    <tr>\n",
              "      <th>Dean Lewis</th>\n",
              "      <td>0.5530</td>\n",
              "      <td>0.5860</td>\n",
              "      <td>-6.3190</td>\n",
              "      <td>0.697000</td>\n",
              "      <td>126.6840</td>\n",
              "      <td>196373.000000</td>\n",
              "      <td>4</td>\n",
              "    </tr>\n",
              "    <tr>\n",
              "      <th>Dynoro</th>\n",
              "      <td>0.6940</td>\n",
              "      <td>0.7700</td>\n",
              "      <td>-5.3350</td>\n",
              "      <td>0.176000</td>\n",
              "      <td>125.9050</td>\n",
              "      <td>184560.000000</td>\n",
              "      <td>4</td>\n",
              "    </tr>\n",
              "    <tr>\n",
              "      <th>Imagine Dragons</th>\n",
              "      <td>0.6905</td>\n",
              "      <td>0.8010</td>\n",
              "      <td>-4.6035</td>\n",
              "      <td>0.034455</td>\n",
              "      <td>146.4730</td>\n",
              "      <td>195747.000000</td>\n",
              "      <td>4</td>\n",
              "    </tr>\n",
              "    <tr>\n",
              "      <th>Jonas Blue</th>\n",
              "      <td>0.6870</td>\n",
              "      <td>0.7850</td>\n",
              "      <td>-4.6500</td>\n",
              "      <td>0.327000</td>\n",
              "      <td>106.0460</td>\n",
              "      <td>194408.000000</td>\n",
              "      <td>4</td>\n",
              "    </tr>\n",
              "    <tr>\n",
              "      <th>Kendrick Lamar</th>\n",
              "      <td>0.8030</td>\n",
              "      <td>0.6270</td>\n",
              "      <td>-5.7920</td>\n",
              "      <td>0.030391</td>\n",
              "      <td>123.4675</td>\n",
              "      <td>204593.500000</td>\n",
              "      <td>4</td>\n",
              "    </tr>\n",
              "    <tr>\n",
              "      <th>Khalid</th>\n",
              "      <td>0.7530</td>\n",
              "      <td>0.5935</td>\n",
              "      <td>-5.9885</td>\n",
              "      <td>0.147300</td>\n",
              "      <td>140.4520</td>\n",
              "      <td>202127.000000</td>\n",
              "      <td>4</td>\n",
              "    </tr>\n",
              "    <tr>\n",
              "      <th>Lauv</th>\n",
              "      <td>0.7520</td>\n",
              "      <td>0.5050</td>\n",
              "      <td>-7.6210</td>\n",
              "      <td>0.535000</td>\n",
              "      <td>91.9700</td>\n",
              "      <td>197437.000000</td>\n",
              "      <td>4</td>\n",
              "    </tr>\n",
              "    <tr>\n",
              "      <th>Lil Uzi Vert</th>\n",
              "      <td>0.7320</td>\n",
              "      <td>0.7500</td>\n",
              "      <td>-6.3660</td>\n",
              "      <td>0.002640</td>\n",
              "      <td>155.0960</td>\n",
              "      <td>182707.000000</td>\n",
              "      <td>4</td>\n",
              "    </tr>\n",
              "    <tr>\n",
              "      <th>Maluma</th>\n",
              "      <td>0.7220</td>\n",
              "      <td>0.7380</td>\n",
              "      <td>-6.0730</td>\n",
              "      <td>0.328000</td>\n",
              "      <td>198.0750</td>\n",
              "      <td>184720.000000</td>\n",
              "      <td>4</td>\n",
              "    </tr>\n",
              "    <tr>\n",
              "      <th>Marshmello</th>\n",
              "      <td>0.6110</td>\n",
              "      <td>0.8110</td>\n",
              "      <td>-2.7420</td>\n",
              "      <td>0.217333</td>\n",
              "      <td>112.3550</td>\n",
              "      <td>199244.666667</td>\n",
              "      <td>4</td>\n",
              "    </tr>\n",
              "    <tr>\n",
              "      <th>Ozuna</th>\n",
              "      <td>0.8045</td>\n",
              "      <td>0.7345</td>\n",
              "      <td>-5.6795</td>\n",
              "      <td>0.240000</td>\n",
              "      <td>95.9990</td>\n",
              "      <td>201466.500000</td>\n",
              "      <td>4</td>\n",
              "    </tr>\n",
              "    <tr>\n",
              "      <th>Sam Smith</th>\n",
              "      <td>0.6980</td>\n",
              "      <td>0.3750</td>\n",
              "      <td>-8.2790</td>\n",
              "      <td>0.652000</td>\n",
              "      <td>91.9200</td>\n",
              "      <td>201000.000000</td>\n",
              "      <td>4</td>\n",
              "    </tr>\n",
              "    <tr>\n",
              "      <th>Selena Gomez</th>\n",
              "      <td>0.6605</td>\n",
              "      <td>0.7655</td>\n",
              "      <td>-4.7230</td>\n",
              "      <td>0.111750</td>\n",
              "      <td>113.5035</td>\n",
              "      <td>202949.000000</td>\n",
              "      <td>4</td>\n",
              "    </tr>\n",
              "    <tr>\n",
              "      <th>Sofia Reyes</th>\n",
              "      <td>0.7920</td>\n",
              "      <td>0.8950</td>\n",
              "      <td>-3.1120</td>\n",
              "      <td>0.165000</td>\n",
              "      <td>94.9680</td>\n",
              "      <td>201526.000000</td>\n",
              "      <td>4</td>\n",
              "    </tr>\n",
              "    <tr>\n",
              "      <th>Wolfine</th>\n",
              "      <td>0.9090</td>\n",
              "      <td>0.4930</td>\n",
              "      <td>-6.6880</td>\n",
              "      <td>0.128000</td>\n",
              "      <td>94.0160</td>\n",
              "      <td>197120.000000</td>\n",
              "      <td>4</td>\n",
              "    </tr>\n",
              "    <tr>\n",
              "      <th>Zedd</th>\n",
              "      <td>0.7530</td>\n",
              "      <td>0.6570</td>\n",
              "      <td>-3.0610</td>\n",
              "      <td>0.171000</td>\n",
              "      <td>107.0100</td>\n",
              "      <td>184732.000000</td>\n",
              "      <td>4</td>\n",
              "    </tr>\n",
              "  </tbody>\n",
              "</table>\n",
              "</div>"
            ],
            "text/plain": [
              "                     danceability  energy  ...    duration_ms  cluster\n",
              "artists                                    ...                        \n",
              "5 Seconds of Summer        0.5960  0.8540  ...  203418.000000        4\n",
              "6ix9ine                    0.9310  0.3870  ...  179405.000000        4\n",
              "Anitta                     0.7750  0.6790  ...  193456.000000        4\n",
              "Anne-Marie                 0.6970  0.6830  ...  186987.000000        4\n",
              "Ariana Grande              0.6505  0.6855  ...  201733.500000        4\n",
              "Becky G                    0.7910  0.7450  ...  188560.000000        4\n",
              "Billie Eilish              0.3510  0.2960  ...  200186.000000        4\n",
              "BlocBoy JB                 0.9220  0.5810  ...  181263.000000        4\n",
              "Daddy Yankee               0.7910  0.8480  ...  200480.000000        4\n",
              "David Guetta               0.6310  0.6490  ...  194680.000000        4\n",
              "Dean Lewis                 0.5530  0.5860  ...  196373.000000        4\n",
              "Dynoro                     0.6940  0.7700  ...  184560.000000        4\n",
              "Imagine Dragons            0.6905  0.8010  ...  195747.000000        4\n",
              "Jonas Blue                 0.6870  0.7850  ...  194408.000000        4\n",
              "Kendrick Lamar             0.8030  0.6270  ...  204593.500000        4\n",
              "Khalid                     0.7530  0.5935  ...  202127.000000        4\n",
              "Lauv                       0.7520  0.5050  ...  197437.000000        4\n",
              "Lil Uzi Vert               0.7320  0.7500  ...  182707.000000        4\n",
              "Maluma                     0.7220  0.7380  ...  184720.000000        4\n",
              "Marshmello                 0.6110  0.8110  ...  199244.666667        4\n",
              "Ozuna                      0.8045  0.7345  ...  201466.500000        4\n",
              "Sam Smith                  0.6980  0.3750  ...  201000.000000        4\n",
              "Selena Gomez               0.6605  0.7655  ...  202949.000000        4\n",
              "Sofia Reyes                0.7920  0.8950  ...  201526.000000        4\n",
              "Wolfine                    0.9090  0.4930  ...  197120.000000        4\n",
              "Zedd                       0.7530  0.6570  ...  184732.000000        4\n",
              "\n",
              "[26 rows x 7 columns]"
            ]
          },
          "metadata": {
            "tags": []
          },
          "execution_count": 397
        }
      ]
    },
    {
      "cell_type": "code",
      "metadata": {
        "id": "HYT6HBLqv7Po",
        "outputId": "da4dc785-b0a2-4130-f06f-383deafb782c",
        "colab": {
          "base_uri": "https://localhost:8080/",
          "height": 1000
        }
      },
      "source": [
        "# 4-4. 이 가수들의 Normalized된 평균 Danceability 값의 합을 출력하시오. (Normalization은 Min-Max Scaling이용)\n",
        "from sklearn.preprocessing import MinMaxScaler\n",
        "scaler = MinMaxScaler()\n",
        "sam[ : ] = scaler.fit_transform(sam[ : ])\n",
        "sam"
      ],
      "execution_count": null,
      "outputs": [
        {
          "output_type": "stream",
          "text": [
            "/usr/local/lib/python3.6/dist-packages/ipykernel_launcher.py:4: SettingWithCopyWarning: \n",
            "A value is trying to be set on a copy of a slice from a DataFrame.\n",
            "Try using .loc[row_indexer,col_indexer] = value instead\n",
            "\n",
            "See the caveats in the documentation: https://pandas.pydata.org/pandas-docs/stable/user_guide/indexing.html#returning-a-view-versus-a-copy\n",
            "  after removing the cwd from sys.path.\n",
            "/usr/local/lib/python3.6/dist-packages/pandas/core/frame.py:3051: SettingWithCopyWarning: \n",
            "A value is trying to be set on a copy of a slice from a DataFrame\n",
            "\n",
            "See the caveats in the documentation: https://pandas.pydata.org/pandas-docs/stable/user_guide/indexing.html#returning-a-view-versus-a-copy\n",
            "  self.iloc._setitem_with_indexer(key, value)\n",
            "/usr/local/lib/python3.6/dist-packages/pandas/core/frame.py:3036: SettingWithCopyWarning: \n",
            "A value is trying to be set on a copy of a slice from a DataFrame\n",
            "\n",
            "See the caveats in the documentation: https://pandas.pydata.org/pandas-docs/stable/user_guide/indexing.html#returning-a-view-versus-a-copy\n",
            "  return self._setitem_slice(indexer, value)\n"
          ],
          "name": "stderr"
        },
        {
          "output_type": "execute_result",
          "data": {
            "text/html": [
              "<div>\n",
              "<style scoped>\n",
              "    .dataframe tbody tr th:only-of-type {\n",
              "        vertical-align: middle;\n",
              "    }\n",
              "\n",
              "    .dataframe tbody tr th {\n",
              "        vertical-align: top;\n",
              "    }\n",
              "\n",
              "    .dataframe thead th {\n",
              "        text-align: right;\n",
              "    }\n",
              "</style>\n",
              "<table border=\"1\" class=\"dataframe\">\n",
              "  <thead>\n",
              "    <tr style=\"text-align: right;\">\n",
              "      <th></th>\n",
              "      <th>danceability</th>\n",
              "      <th>energy</th>\n",
              "      <th>loudness</th>\n",
              "      <th>acousticness</th>\n",
              "      <th>tempo</th>\n",
              "      <th>duration_ms</th>\n",
              "      <th>cluster</th>\n",
              "    </tr>\n",
              "    <tr>\n",
              "      <th>artists</th>\n",
              "      <th></th>\n",
              "      <th></th>\n",
              "      <th></th>\n",
              "      <th></th>\n",
              "      <th></th>\n",
              "      <th></th>\n",
              "      <th></th>\n",
              "    </tr>\n",
              "  </thead>\n",
              "  <tbody>\n",
              "    <tr>\n",
              "      <th>5 Seconds of Summer</th>\n",
              "      <td>0.422414</td>\n",
              "      <td>0.931553</td>\n",
              "      <td>0.678024</td>\n",
              "      <td>0.017000</td>\n",
              "      <td>0.267100</td>\n",
              "      <td>0.953332</td>\n",
              "      <td>0.0</td>\n",
              "    </tr>\n",
              "    <tr>\n",
              "      <th>6ix9ine</th>\n",
              "      <td>1.000000</td>\n",
              "      <td>0.151920</td>\n",
              "      <td>0.133297</td>\n",
              "      <td>0.093209</td>\n",
              "      <td>0.320833</td>\n",
              "      <td>0.000000</td>\n",
              "      <td>0.0</td>\n",
              "    </tr>\n",
              "    <tr>\n",
              "      <th>Anitta</th>\n",
              "      <td>0.731034</td>\n",
              "      <td>0.639399</td>\n",
              "      <td>0.695534</td>\n",
              "      <td>0.191820</td>\n",
              "      <td>0.697923</td>\n",
              "      <td>0.557834</td>\n",
              "      <td>0.0</td>\n",
              "    </tr>\n",
              "    <tr>\n",
              "      <th>Anne-Marie</th>\n",
              "      <td>0.596552</td>\n",
              "      <td>0.646077</td>\n",
              "      <td>0.981132</td>\n",
              "      <td>0.038758</td>\n",
              "      <td>0.039687</td>\n",
              "      <td>0.301010</td>\n",
              "      <td>0.0</td>\n",
              "    </tr>\n",
              "    <tr>\n",
              "      <th>Ariana Grande</th>\n",
              "      <td>0.516379</td>\n",
              "      <td>0.650250</td>\n",
              "      <td>0.595697</td>\n",
              "      <td>0.032810</td>\n",
              "      <td>0.391804</td>\n",
              "      <td>0.886456</td>\n",
              "      <td>0.0</td>\n",
              "    </tr>\n",
              "    <tr>\n",
              "      <th>Becky G</th>\n",
              "      <td>0.758621</td>\n",
              "      <td>0.749583</td>\n",
              "      <td>0.870639</td>\n",
              "      <td>0.378323</td>\n",
              "      <td>0.019726</td>\n",
              "      <td>0.363460</td>\n",
              "      <td>0.0</td>\n",
              "    </tr>\n",
              "    <tr>\n",
              "      <th>Billie Eilish</th>\n",
              "      <td>0.000000</td>\n",
              "      <td>0.000000</td>\n",
              "      <td>0.000000</td>\n",
              "      <td>1.000000</td>\n",
              "      <td>0.220093</td>\n",
              "      <td>0.825019</td>\n",
              "      <td>0.0</td>\n",
              "    </tr>\n",
              "    <tr>\n",
              "      <th>BlocBoy JB</th>\n",
              "      <td>0.984483</td>\n",
              "      <td>0.475793</td>\n",
              "      <td>0.354826</td>\n",
              "      <td>0.000000</td>\n",
              "      <td>0.453130</td>\n",
              "      <td>0.073764</td>\n",
              "      <td>0.0</td>\n",
              "    </tr>\n",
              "    <tr>\n",
              "      <th>Daddy Yankee</th>\n",
              "      <td>0.758621</td>\n",
              "      <td>0.921536</td>\n",
              "      <td>0.903081</td>\n",
              "      <td>0.195035</td>\n",
              "      <td>0.029014</td>\n",
              "      <td>0.836691</td>\n",
              "      <td>0.0</td>\n",
              "    </tr>\n",
              "    <tr>\n",
              "      <th>David Guetta</th>\n",
              "      <td>0.482759</td>\n",
              "      <td>0.589316</td>\n",
              "      <td>0.572418</td>\n",
              "      <td>0.086456</td>\n",
              "      <td>0.019123</td>\n",
              "      <td>0.606428</td>\n",
              "      <td>0.0</td>\n",
              "    </tr>\n",
              "    <tr>\n",
              "      <th>Dean Lewis</th>\n",
              "      <td>0.348276</td>\n",
              "      <td>0.484140</td>\n",
              "      <td>0.514456</td>\n",
              "      <td>0.745970</td>\n",
              "      <td>0.327483</td>\n",
              "      <td>0.673641</td>\n",
              "      <td>0.0</td>\n",
              "    </tr>\n",
              "    <tr>\n",
              "      <th>Dynoro</th>\n",
              "      <td>0.591379</td>\n",
              "      <td>0.791319</td>\n",
              "      <td>0.648025</td>\n",
              "      <td>0.187532</td>\n",
              "      <td>0.320145</td>\n",
              "      <td>0.204657</td>\n",
              "      <td>0.0</td>\n",
              "    </tr>\n",
              "    <tr>\n",
              "      <th>Imagine Dragons</th>\n",
              "      <td>0.585345</td>\n",
              "      <td>0.843072</td>\n",
              "      <td>0.747319</td>\n",
              "      <td>0.035816</td>\n",
              "      <td>0.513899</td>\n",
              "      <td>0.648788</td>\n",
              "      <td>0.0</td>\n",
              "    </tr>\n",
              "    <tr>\n",
              "      <th>Jonas Blue</th>\n",
              "      <td>0.579310</td>\n",
              "      <td>0.816361</td>\n",
              "      <td>0.741007</td>\n",
              "      <td>0.349383</td>\n",
              "      <td>0.133070</td>\n",
              "      <td>0.595629</td>\n",
              "      <td>0.0</td>\n",
              "    </tr>\n",
              "    <tr>\n",
              "      <th>Kendrick Lamar</th>\n",
              "      <td>0.779310</td>\n",
              "      <td>0.552588</td>\n",
              "      <td>0.585992</td>\n",
              "      <td>0.031460</td>\n",
              "      <td>0.297183</td>\n",
              "      <td>1.000000</td>\n",
              "      <td>0.0</td>\n",
              "    </tr>\n",
              "    <tr>\n",
              "      <th>Khalid</th>\n",
              "      <td>0.693103</td>\n",
              "      <td>0.496661</td>\n",
              "      <td>0.559319</td>\n",
              "      <td>0.156770</td>\n",
              "      <td>0.457181</td>\n",
              "      <td>0.902078</td>\n",
              "      <td>0.0</td>\n",
              "    </tr>\n",
              "    <tr>\n",
              "      <th>Lauv</th>\n",
              "      <td>0.691379</td>\n",
              "      <td>0.348915</td>\n",
              "      <td>0.337722</td>\n",
              "      <td>0.572329</td>\n",
              "      <td>0.000471</td>\n",
              "      <td>0.715882</td>\n",
              "      <td>0.0</td>\n",
              "    </tr>\n",
              "    <tr>\n",
              "      <th>Lil Uzi Vert</th>\n",
              "      <td>0.656897</td>\n",
              "      <td>0.757930</td>\n",
              "      <td>0.508077</td>\n",
              "      <td>0.001715</td>\n",
              "      <td>0.595130</td>\n",
              "      <td>0.131092</td>\n",
              "      <td>0.0</td>\n",
              "    </tr>\n",
              "    <tr>\n",
              "      <th>Maluma</th>\n",
              "      <td>0.639655</td>\n",
              "      <td>0.737896</td>\n",
              "      <td>0.547849</td>\n",
              "      <td>0.350454</td>\n",
              "      <td>1.000000</td>\n",
              "      <td>0.211009</td>\n",
              "      <td>0.0</td>\n",
              "    </tr>\n",
              "    <tr>\n",
              "      <th>Marshmello</th>\n",
              "      <td>0.448276</td>\n",
              "      <td>0.859766</td>\n",
              "      <td>1.000000</td>\n",
              "      <td>0.231836</td>\n",
              "      <td>0.192502</td>\n",
              "      <td>0.787648</td>\n",
              "      <td>0.0</td>\n",
              "    </tr>\n",
              "    <tr>\n",
              "      <th>Ozuna</th>\n",
              "      <td>0.781897</td>\n",
              "      <td>0.732053</td>\n",
              "      <td>0.601262</td>\n",
              "      <td>0.256131</td>\n",
              "      <td>0.038425</td>\n",
              "      <td>0.875856</td>\n",
              "      <td>0.0</td>\n",
              "    </tr>\n",
              "    <tr>\n",
              "      <th>Sam Smith</th>\n",
              "      <td>0.598276</td>\n",
              "      <td>0.131886</td>\n",
              "      <td>0.248405</td>\n",
              "      <td>0.697736</td>\n",
              "      <td>0.000000</td>\n",
              "      <td>0.857336</td>\n",
              "      <td>0.0</td>\n",
              "    </tr>\n",
              "    <tr>\n",
              "      <th>Selena Gomez</th>\n",
              "      <td>0.533621</td>\n",
              "      <td>0.783806</td>\n",
              "      <td>0.731098</td>\n",
              "      <td>0.118665</td>\n",
              "      <td>0.203321</td>\n",
              "      <td>0.934712</td>\n",
              "      <td>0.0</td>\n",
              "    </tr>\n",
              "    <tr>\n",
              "      <th>Sofia Reyes</th>\n",
              "      <td>0.760345</td>\n",
              "      <td>1.000000</td>\n",
              "      <td>0.949776</td>\n",
              "      <td>0.175742</td>\n",
              "      <td>0.028713</td>\n",
              "      <td>0.878218</td>\n",
              "      <td>0.0</td>\n",
              "    </tr>\n",
              "    <tr>\n",
              "      <th>Wolfine</th>\n",
              "      <td>0.962069</td>\n",
              "      <td>0.328881</td>\n",
              "      <td>0.464368</td>\n",
              "      <td>0.136083</td>\n",
              "      <td>0.019745</td>\n",
              "      <td>0.703297</td>\n",
              "      <td>0.0</td>\n",
              "    </tr>\n",
              "    <tr>\n",
              "      <th>Zedd</th>\n",
              "      <td>0.693103</td>\n",
              "      <td>0.602671</td>\n",
              "      <td>0.956699</td>\n",
              "      <td>0.182173</td>\n",
              "      <td>0.142151</td>\n",
              "      <td>0.211485</td>\n",
              "      <td>0.0</td>\n",
              "    </tr>\n",
              "  </tbody>\n",
              "</table>\n",
              "</div>"
            ],
            "text/plain": [
              "                     danceability    energy  ...  duration_ms  cluster\n",
              "artists                                      ...                      \n",
              "5 Seconds of Summer      0.422414  0.931553  ...     0.953332      0.0\n",
              "6ix9ine                  1.000000  0.151920  ...     0.000000      0.0\n",
              "Anitta                   0.731034  0.639399  ...     0.557834      0.0\n",
              "Anne-Marie               0.596552  0.646077  ...     0.301010      0.0\n",
              "Ariana Grande            0.516379  0.650250  ...     0.886456      0.0\n",
              "Becky G                  0.758621  0.749583  ...     0.363460      0.0\n",
              "Billie Eilish            0.000000  0.000000  ...     0.825019      0.0\n",
              "BlocBoy JB               0.984483  0.475793  ...     0.073764      0.0\n",
              "Daddy Yankee             0.758621  0.921536  ...     0.836691      0.0\n",
              "David Guetta             0.482759  0.589316  ...     0.606428      0.0\n",
              "Dean Lewis               0.348276  0.484140  ...     0.673641      0.0\n",
              "Dynoro                   0.591379  0.791319  ...     0.204657      0.0\n",
              "Imagine Dragons          0.585345  0.843072  ...     0.648788      0.0\n",
              "Jonas Blue               0.579310  0.816361  ...     0.595629      0.0\n",
              "Kendrick Lamar           0.779310  0.552588  ...     1.000000      0.0\n",
              "Khalid                   0.693103  0.496661  ...     0.902078      0.0\n",
              "Lauv                     0.691379  0.348915  ...     0.715882      0.0\n",
              "Lil Uzi Vert             0.656897  0.757930  ...     0.131092      0.0\n",
              "Maluma                   0.639655  0.737896  ...     0.211009      0.0\n",
              "Marshmello               0.448276  0.859766  ...     0.787648      0.0\n",
              "Ozuna                    0.781897  0.732053  ...     0.875856      0.0\n",
              "Sam Smith                0.598276  0.131886  ...     0.857336      0.0\n",
              "Selena Gomez             0.533621  0.783806  ...     0.934712      0.0\n",
              "Sofia Reyes              0.760345  1.000000  ...     0.878218      0.0\n",
              "Wolfine                  0.962069  0.328881  ...     0.703297      0.0\n",
              "Zedd                     0.693103  0.602671  ...     0.211485      0.0\n",
              "\n",
              "[26 rows x 7 columns]"
            ]
          },
          "metadata": {
            "tags": []
          },
          "execution_count": 414
        }
      ]
    },
    {
      "cell_type": "code",
      "metadata": {
        "id": "Vu8_IwMmZYl5",
        "outputId": "e50cb3d7-fbbc-453a-a704-8e85d581025d",
        "colab": {
          "base_uri": "https://localhost:8080/"
        }
      },
      "source": [
        "print(\"가수들의 Normalized된 평균 Danceability 값의 합 : \",sam['danceability'].sum())"
      ],
      "execution_count": null,
      "outputs": [
        {
          "output_type": "stream",
          "text": [
            "가수들의 Normalized된 평균 Danceability 값의 합 :  16.593103448275865\n"
          ],
          "name": "stdout"
        }
      ]
    }
  ]
}